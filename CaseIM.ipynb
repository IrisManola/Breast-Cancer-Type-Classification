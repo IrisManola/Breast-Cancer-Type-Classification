{
 "cells": [
  {
   "cell_type": "code",
   "execution_count": 1,
   "metadata": {},
   "outputs": [],
   "source": [
    "# import libraries"
   ]
  },
  {
   "cell_type": "code",
   "execution_count": 2,
   "metadata": {},
   "outputs": [],
   "source": [
    "import pandas as pd\n",
    "import numpy as np\n",
    "from scipy.io.arff import loadarff \n",
    "import matplotlib.pyplot as plt\n",
    "import seaborn as sns\n",
    "%matplotlib inline \n"
   ]
  },
  {
   "cell_type": "code",
   "execution_count": 3,
   "metadata": {},
   "outputs": [],
   "source": [
    "# Load the data and explore\n"
   ]
  },
  {
   "cell_type": "code",
   "execution_count": 4,
   "metadata": {},
   "outputs": [],
   "source": [
    "raw_data = loadarff('BreastCancerAll.reduced.using.cfs.missing.arff')\n",
    "df = pd.DataFrame(raw_data[0])\n"
   ]
  },
  {
   "cell_type": "code",
   "execution_count": 5,
   "metadata": {},
   "outputs": [],
   "source": [
    "#dfr.describe()\n"
   ]
  },
  {
   "cell_type": "code",
   "execution_count": 6,
   "metadata": {},
   "outputs": [
    {
     "name": "stdout",
     "output_type": "stream",
     "text": [
      "<class 'pandas.core.frame.DataFrame'>\n",
      "Int64Index: 157 entries, 0 to 156\n",
      "Data columns (total 60 columns):\n",
      "302_chrom1_reg44816452-46047207_probnorm        157 non-null float64\n",
      "1195_chrom2_reg15573647-20346474_probgain       157 non-null float64\n",
      "1441_chrom2_reg126478953-126745976_probloss     157 non-null float64\n",
      "1471_chrom2_reg131945577-132042781_probgain     157 non-null float64\n",
      "1673_chrom3_reg12735694-14873985_probloss       157 non-null float64\n",
      "1966_chrom3_reg128485208-128664764_probnorm     157 non-null float64\n",
      "1975_chrom3_reg130189196-130206126_probgain     157 non-null float64\n",
      "2007_chrom3_reg143686906-144718154_probgain     157 non-null float64\n",
      "2019_chrom3_reg156981865-159692979_probgain     157 non-null float64\n",
      "2054_chrom3_reg166639991-168786545_probnorm     157 non-null float64\n",
      "2139_chrom3_reg196908262-196937230_probgain     157 non-null float64\n",
      "2170_chrom4_reg833085-843614_probnorm           156 non-null float64\n",
      "2630_chrom4_reg187735989-188875290_probnorm     156 non-null float64\n",
      "3150_chrom6_reg1292057-1353261_probnorm         157 non-null float64\n",
      "3211_chrom6_reg18550170-18661357_probgain       157 non-null float64\n",
      "3401_chrom6_reg62843325-63283741_probloss       157 non-null float64\n",
      "3435_chrom6_reg69133049-69809498_probgain       157 non-null float64\n",
      "3593_chrom6_reg110630205-111025278_probloss     157 non-null float64\n",
      "3659_chrom6_reg128962975-130409779_probgain     157 non-null float64\n",
      "4322_chrom8_reg184617-320897_probnorm           157 non-null float64\n",
      "4553_chrom8_reg32812909-32947324_probloss       157 non-null float64\n",
      "4629_chrom8_reg36779836-36973293_probloss       157 non-null float64\n",
      "4757_chrom8_reg42014398-42175380_probloss       157 non-null float64\n",
      "4795_chrom8_reg43264404-43385428_probgain       157 non-null float64\n",
      "5271_chrom9_reg7319454-7723767_probgain         157 non-null float64\n",
      "6437_chrom11_reg59634380-59984619_probloss      157 non-null float64\n",
      "6785_chrom11_reg76858917-77204725_probloss      157 non-null float64\n",
      "6851_chrom11_reg83733321-85064586_probgain      157 non-null float64\n",
      "6859_chrom11_reg86480032-87537774_probgain      157 non-null float64\n",
      "6911_chrom11_reg104063199-105016068_probgain    157 non-null float64\n",
      "7022_chrom12_reg7894681-7915622_probnorm        157 non-null float64\n",
      "7213_chrom12_reg51241859-52425218_probloss      157 non-null float64\n",
      "7317_chrom12_reg72645832-73482351_probloss      157 non-null float64\n",
      "7345_chrom12_reg80739510-81659894_probloss      157 non-null float64\n",
      "7347_chrom12_reg80739510-81659894_probgain      157 non-null float64\n",
      "7754_chrom13_reg94449214-95725796_probnorm      157 non-null float64\n",
      "8607_chrom16_reg4670009-7442625_probgain        157 non-null float64\n",
      "8797_chrom16_reg47641974-47668511_probloss      157 non-null float64\n",
      "8905_chrom16_reg68606309-68648091_probloss      157 non-null float64\n",
      "8913_chrom16_reg68710277-68751390_probloss      157 non-null float64\n",
      "8917_chrom16_reg68838368-68874167_probloss      157 non-null float64\n",
      "9589_chrom17_reg34900309-34925507_probloss      157 non-null float64\n",
      "9593_chrom17_reg34940330-35067992_probloss      157 non-null float64\n",
      "9594_chrom17_reg34940330-35067992_probnorm      157 non-null float64\n",
      "9595_chrom17_reg34940330-35067992_probgain      157 non-null float64\n",
      "9597_chrom17_reg35076296-35282086_probloss      157 non-null float64\n",
      "9598_chrom17_reg35076296-35282086_probnorm      157 non-null float64\n",
      "9601_chrom17_reg35286565-35336158_probloss      157 non-null float64\n",
      "9602_chrom17_reg35286565-35336158_probnorm      157 non-null float64\n",
      "9603_chrom17_reg35286565-35336158_probgain      157 non-null float64\n",
      "9605_chrom17_reg35344057-35385941_probloss      157 non-null float64\n",
      "9725_chrom17_reg41458670-41494331_probloss      157 non-null float64\n",
      "9945_chrom17_reg49218134-49331755_probloss      157 non-null float64\n",
      "10674_chrom18_reg64796820-68375250_probnorm     157 non-null float64\n",
      "11613_chrom21_reg13660680-14258259_probloss     157 non-null float64\n",
      "11969_chrom22_reg41221190-41290227_probloss     157 non-null float64\n",
      "11987_chrom22_reg42652021-43322780_probgain     157 non-null float64\n",
      "12034_chrom23_reg384298-385792_probnorm         157 non-null float64\n",
      "12038_chrom23_reg422315-462468_probnorm         157 non-null float64\n",
      "class                                           157 non-null object\n",
      "dtypes: float64(59), object(1)\n",
      "memory usage: 74.8+ KB\n"
     ]
    }
   ],
   "source": [
    "df.info()\n"
   ]
  },
  {
   "cell_type": "code",
   "execution_count": 7,
   "metadata": {},
   "outputs": [],
   "source": [
    "# there are 59 variables in the dataset and 157 observations"
   ]
  },
  {
   "cell_type": "code",
   "execution_count": 8,
   "metadata": {},
   "outputs": [],
   "source": [
    "#Do the data need cleaning?\n",
    "#are there any missing values?"
   ]
  },
  {
   "cell_type": "code",
   "execution_count": 9,
   "metadata": {},
   "outputs": [
    {
     "data": {
      "text/plain": [
       "302_chrom1_reg44816452-46047207_probnorm        0\n",
       "1195_chrom2_reg15573647-20346474_probgain       0\n",
       "1441_chrom2_reg126478953-126745976_probloss     0\n",
       "1471_chrom2_reg131945577-132042781_probgain     0\n",
       "1673_chrom3_reg12735694-14873985_probloss       0\n",
       "1966_chrom3_reg128485208-128664764_probnorm     0\n",
       "1975_chrom3_reg130189196-130206126_probgain     0\n",
       "2007_chrom3_reg143686906-144718154_probgain     0\n",
       "2019_chrom3_reg156981865-159692979_probgain     0\n",
       "2054_chrom3_reg166639991-168786545_probnorm     0\n",
       "2139_chrom3_reg196908262-196937230_probgain     0\n",
       "2170_chrom4_reg833085-843614_probnorm           1\n",
       "2630_chrom4_reg187735989-188875290_probnorm     1\n",
       "3150_chrom6_reg1292057-1353261_probnorm         0\n",
       "3211_chrom6_reg18550170-18661357_probgain       0\n",
       "3401_chrom6_reg62843325-63283741_probloss       0\n",
       "3435_chrom6_reg69133049-69809498_probgain       0\n",
       "3593_chrom6_reg110630205-111025278_probloss     0\n",
       "3659_chrom6_reg128962975-130409779_probgain     0\n",
       "4322_chrom8_reg184617-320897_probnorm           0\n",
       "4553_chrom8_reg32812909-32947324_probloss       0\n",
       "4629_chrom8_reg36779836-36973293_probloss       0\n",
       "4757_chrom8_reg42014398-42175380_probloss       0\n",
       "4795_chrom8_reg43264404-43385428_probgain       0\n",
       "5271_chrom9_reg7319454-7723767_probgain         0\n",
       "6437_chrom11_reg59634380-59984619_probloss      0\n",
       "6785_chrom11_reg76858917-77204725_probloss      0\n",
       "6851_chrom11_reg83733321-85064586_probgain      0\n",
       "6859_chrom11_reg86480032-87537774_probgain      0\n",
       "6911_chrom11_reg104063199-105016068_probgain    0\n",
       "7022_chrom12_reg7894681-7915622_probnorm        0\n",
       "7213_chrom12_reg51241859-52425218_probloss      0\n",
       "7317_chrom12_reg72645832-73482351_probloss      0\n",
       "7345_chrom12_reg80739510-81659894_probloss      0\n",
       "7347_chrom12_reg80739510-81659894_probgain      0\n",
       "7754_chrom13_reg94449214-95725796_probnorm      0\n",
       "8607_chrom16_reg4670009-7442625_probgain        0\n",
       "8797_chrom16_reg47641974-47668511_probloss      0\n",
       "8905_chrom16_reg68606309-68648091_probloss      0\n",
       "8913_chrom16_reg68710277-68751390_probloss      0\n",
       "8917_chrom16_reg68838368-68874167_probloss      0\n",
       "9589_chrom17_reg34900309-34925507_probloss      0\n",
       "9593_chrom17_reg34940330-35067992_probloss      0\n",
       "9594_chrom17_reg34940330-35067992_probnorm      0\n",
       "9595_chrom17_reg34940330-35067992_probgain      0\n",
       "9597_chrom17_reg35076296-35282086_probloss      0\n",
       "9598_chrom17_reg35076296-35282086_probnorm      0\n",
       "9601_chrom17_reg35286565-35336158_probloss      0\n",
       "9602_chrom17_reg35286565-35336158_probnorm      0\n",
       "9603_chrom17_reg35286565-35336158_probgain      0\n",
       "9605_chrom17_reg35344057-35385941_probloss      0\n",
       "9725_chrom17_reg41458670-41494331_probloss      0\n",
       "9945_chrom17_reg49218134-49331755_probloss      0\n",
       "10674_chrom18_reg64796820-68375250_probnorm     0\n",
       "11613_chrom21_reg13660680-14258259_probloss     0\n",
       "11969_chrom22_reg41221190-41290227_probloss     0\n",
       "11987_chrom22_reg42652021-43322780_probgain     0\n",
       "12034_chrom23_reg384298-385792_probnorm         0\n",
       "12038_chrom23_reg422315-462468_probnorm         0\n",
       "class                                           0\n",
       "dtype: int64"
      ]
     },
     "execution_count": 9,
     "metadata": {},
     "output_type": "execute_result"
    }
   ],
   "source": [
    "df.isnull().sum()\n"
   ]
  },
  {
   "cell_type": "code",
   "execution_count": 10,
   "metadata": {},
   "outputs": [],
   "source": [
    "#this shows the list  of all variables and tells if there are missing values. \n",
    "#There are two variables that have 1 missing value each. Those we will drop from our data:\n"
   ]
  },
  {
   "cell_type": "code",
   "execution_count": 11,
   "metadata": {},
   "outputs": [
    {
     "name": "stdout",
     "output_type": "stream",
     "text": [
      "Size and dimentions of dataset before cleaning:  9420 (157, 60)\n"
     ]
    }
   ],
   "source": [
    "print (\"Size and dimentions of dataset before cleaning: \", df.size, df.shape)\n"
   ]
  },
  {
   "cell_type": "code",
   "execution_count": 12,
   "metadata": {},
   "outputs": [],
   "source": [
    "#Size of dataset before cleaning:  9420\n"
   ]
  },
  {
   "cell_type": "code",
   "execution_count": 13,
   "metadata": {},
   "outputs": [
    {
     "name": "stdout",
     "output_type": "stream",
     "text": [
      "Size and dimentions of dataset after cleaning:  9300 (155, 60)\n"
     ]
    }
   ],
   "source": [
    "df[['2170_chrom4_reg833085-843614_probnorm','2630_chrom4_reg187735989-188875290_probnorm']] = df[['2170_chrom4_reg833085-843614_probnorm','2630_chrom4_reg187735989-188875290_probnorm']].apply(pd.to_numeric, errors='coerce')\n",
    "df = df.dropna()\n",
    "df = df.reset_index(drop=True)\n",
    "print (\"Size and dimentions of dataset after cleaning: \", df.size, df.shape)\n"
   ]
  },
  {
   "cell_type": "code",
   "execution_count": 14,
   "metadata": {},
   "outputs": [],
   "source": [
    "#Size of dataset after cleaning:  9300"
   ]
  },
  {
   "cell_type": "code",
   "execution_count": 15,
   "metadata": {},
   "outputs": [],
   "source": [
    "# The cancer labels are categorical data. They need to be transformed in integers with a label encoder so that pythons models can understand them\n"
   ]
  },
  {
   "cell_type": "code",
   "execution_count": 16,
   "metadata": {},
   "outputs": [],
   "source": [
    "from sklearn.preprocessing import LabelEncoder\n",
    "labelencoder_Y = LabelEncoder()\n",
    "df['class'] = labelencoder_Y.fit_transform(df['class'])\n",
    "Y = df['class']\n",
    "Y = Y.values"
   ]
  },
  {
   "cell_type": "code",
   "execution_count": 17,
   "metadata": {},
   "outputs": [],
   "source": [
    "# how many of each cancer class is in our data:"
   ]
  },
  {
   "cell_type": "code",
   "execution_count": 18,
   "metadata": {},
   "outputs": [
    {
     "name": "stdout",
     "output_type": "stream",
     "text": [
      "2    53\n",
      "1    53\n",
      "0    49\n",
      "Name: class, dtype: int64\n"
     ]
    }
   ],
   "source": [
    "print (df['class'].value_counts())"
   ]
  },
  {
   "cell_type": "code",
   "execution_count": 19,
   "metadata": {},
   "outputs": [
    {
     "data": {
      "text/plain": [
       "Text(0.5, 1.0, 'Distribution of Cancer Types')"
      ]
     },
     "execution_count": 19,
     "metadata": {},
     "output_type": "execute_result"
    },
    {
     "data": {
      "image/png": "[encoded data removed]",
      "text/plain": [
       "<Figure size 432x288 with 1 Axes>"
      ]
     },
     "metadata": {
      "needs_background": "light"
     },
     "output_type": "display_data"
    }
   ],
   "source": [
    "# let's plot it\n",
    "plt.figure()\n",
    "sns.countplot(df['class'])\n",
    "plt.title('Distribution of Cancer Types')\n"
   ]
  },
  {
   "cell_type": "code",
   "execution_count": 20,
   "metadata": {},
   "outputs": [],
   "source": [
    "#gives:\n",
    "#b'HER2+' 0 :  49\n",
    "#b'HR+'   1 :  53\n",
    "#b'TN'    2 :  53\n",
    "#Name: class, dtype: int64\n",
    "# so the 3 cancer types are well distributed withing our data"
   ]
  },
  {
   "cell_type": "code",
   "execution_count": 21,
   "metadata": {},
   "outputs": [],
   "source": [
    "# Divide the data into the (assumed) independent variables X and the dependent Y (Y is named already a few lines above)"
   ]
  },
  {
   "cell_type": "code",
   "execution_count": 22,
   "metadata": {},
   "outputs": [],
   "source": [
    "X = df.iloc[:, 0:58].values"
   ]
  },
  {
   "cell_type": "code",
   "execution_count": 23,
   "metadata": {},
   "outputs": [],
   "source": [
    "# We will test now some multi-class supervised machine learning classification methods to see which one performs best here \n",
    "\n",
    "#First split the data into a train set and a test set in order at the end to test both the train and the test accuracy.\n",
    "# Will be 80% train data 20% test"
   ]
  },
  {
   "cell_type": "code",
   "execution_count": 24,
   "metadata": {},
   "outputs": [],
   "source": [
    "from sklearn.model_selection import train_test_split\n",
    "X_train, X_test, Y_train, Y_test = train_test_split(X, Y, test_size = 0.20, random_state = 0)"
   ]
  },
  {
   "cell_type": "code",
   "execution_count": 25,
   "metadata": {},
   "outputs": [],
   "source": [
    "#We need to bring all features to the same level of magnitudes. "
   ]
  },
  {
   "cell_type": "code",
   "execution_count": 26,
   "metadata": {},
   "outputs": [],
   "source": [
    "from sklearn.preprocessing import StandardScaler\n",
    "sc = StandardScaler()\n",
    "X_train = sc.fit_transform(X_train)\n",
    "X_test = sc.transform(X_test)"
   ]
  },
  {
   "cell_type": "code",
   "execution_count": 27,
   "metadata": {},
   "outputs": [],
   "source": [
    "#import the tool that will test the accuracy of the models"
   ]
  },
  {
   "cell_type": "code",
   "execution_count": 28,
   "metadata": {},
   "outputs": [],
   "source": [
    "from sklearn.metrics import classification_report, confusion_matrix"
   ]
  },
  {
   "cell_type": "code",
   "execution_count": 29,
   "metadata": {},
   "outputs": [],
   "source": [
    "#k Nearest Neighbor algorithm"
   ]
  },
  {
   "cell_type": "code",
   "execution_count": 30,
   "metadata": {},
   "outputs": [],
   "source": [
    "#We can calculate the accuracy of KNN for different Ks in order to select the one that provides the most accurate results."
   ]
  },
  {
   "cell_type": "code",
   "execution_count": 40,
   "metadata": {},
   "outputs": [
    {
     "name": "stdout",
     "output_type": "stream",
     "text": [
      "Train set Accuracy:  0.8870967741935484\n",
      "Test set Accuracy:  0.7741935483870968\n"
     ]
    }
   ],
   "source": [
    "from sklearn import metrics\n",
    "from  sklearn.neighbors import KNeighborsClassifier\n",
    "\n",
    "Ks = 11\n",
    "mean_acc = np.zeros((Ks-1))\n",
    "std_acc = np.zeros((Ks-1))\n",
    "ConfustionMx = [];\n",
    "for n in range(1,Ks):\n",
    "    \n",
    "    #Train Model and Predict  \n",
    "    neigh = KNeighborsClassifier(n_neighbors = n).fit(X_train,Y_train)\n",
    "    yhat=neigh.predict(X_test)\n",
    "    mean_acc[n-1] = metrics.accuracy_score(Y_test, yhat)   \n",
    "    std_acc[n-1]=np.std(yhat==Y_test)/np.sqrt(yhat.shape[0])\n",
    "    \n",
    "print(\"Train set Accuracy: \", metrics.accuracy_score(Y_train, neigh.predict(X_train)))\n",
    "print(\"Test set Accuracy: \", metrics.accuracy_score(Y_test, yhat))"
   ]
  },
  {
   "cell_type": "code",
   "execution_count": 41,
   "metadata": {},
   "outputs": [],
   "source": [
    "# Plot  model accuracy  for Different number of Neighbors "
   ]
  },
  {
   "cell_type": "code",
   "execution_count": 42,
   "metadata": {},
   "outputs": [
    {
     "name": "stdout",
     "output_type": "stream",
     "text": [
      "The best accuracy was with 0.8064516129032258 with k= 3\n"
     ]
    },
    {
     "data": {
      "image/png": "[encoded data removed]",
      "text/plain": [
       "<Figure size 432x288 with 1 Axes>"
      ]
     },
     "metadata": {
      "needs_background": "light"
     },
     "output_type": "display_data"
    }
   ],
   "source": [
    "plt.figure()\n",
    "plt.plot(range(1,Ks),mean_acc,'g')\n",
    "plt.fill_between(range(1,Ks),mean_acc - 1 * std_acc,mean_acc + 1 * std_acc, alpha=0.10)\n",
    "plt.legend(('Accuracy ', '+/- 3xstd'))\n",
    "plt.ylabel('Accuracy ')\n",
    "plt.xlabel('Number of Neighbors (K)')\n",
    "plt.tight_layout()\n",
    "#plt.show()\n",
    "print( \"The best accuracy was with\", mean_acc.max(), \"with k=\", mean_acc.argmax()+1) "
   ]
  },
  {
   "cell_type": "code",
   "execution_count": 43,
   "metadata": {},
   "outputs": [],
   "source": [
    "# we run the kNN algorithm with k = 3 and print the confusion matrix"
   ]
  },
  {
   "cell_type": "code",
   "execution_count": 44,
   "metadata": {},
   "outputs": [
    {
     "data": {
      "text/plain": [
       "KNeighborsClassifier(algorithm='auto', leaf_size=30, metric='minkowski',\n",
       "           metric_params=None, n_jobs=None, n_neighbors=3, p=2,\n",
       "           weights='uniform')"
      ]
     },
     "execution_count": 44,
     "metadata": {},
     "output_type": "execute_result"
    }
   ],
   "source": [
    "classifier = KNeighborsClassifier(n_neighbors = 3, metric = 'minkowski', p = 2)\n",
    "classifier.fit(X_train, Y_train)"
   ]
  },
  {
   "cell_type": "code",
   "execution_count": 55,
   "metadata": {},
   "outputs": [],
   "source": [
    "#predict the test set results and check the accuracy with each of our model:"
   ]
  },
  {
   "cell_type": "code",
   "execution_count": 56,
   "metadata": {},
   "outputs": [],
   "source": [
    "Y_pred = classifier.predict(X_test)"
   ]
  },
  {
   "cell_type": "code",
   "execution_count": 57,
   "metadata": {},
   "outputs": [],
   "source": [
    "#test the accuracy with a confusion matrix"
   ]
  },
  {
   "cell_type": "code",
   "execution_count": 58,
   "metadata": {},
   "outputs": [
    {
     "name": "stdout",
     "output_type": "stream",
     "text": [
      "Classification report kNN\n",
      "              precision    recall  f1-score   support\n",
      "\n",
      "           0       0.78      0.88      0.82         8\n",
      "           1       0.75      0.90      0.82        10\n",
      "           2       0.90      0.69      0.78        13\n",
      "\n",
      "   micro avg       0.81      0.81      0.81        31\n",
      "   macro avg       0.81      0.82      0.81        31\n",
      "weighted avg       0.82      0.81      0.80        31\n",
      "\n"
     ]
    }
   ],
   "source": [
    "from sklearn.metrics import confusion_matrix\n",
    "cmknn = confusion_matrix(Y_test, Y_pred)\n",
    "print ('Classification report kNN')\n",
    "print (classification_report(Y_test, Y_pred))\n"
   ]
  },
  {
   "cell_type": "code",
   "execution_count": 59,
   "metadata": {},
   "outputs": [],
   "source": [
    "#Naïve Bayes Algorithm"
   ]
  },
  {
   "cell_type": "code",
   "execution_count": 60,
   "metadata": {},
   "outputs": [
    {
     "name": "stdout",
     "output_type": "stream",
     "text": [
      "Classification report Naive Bayes\n",
      "              precision    recall  f1-score   support\n",
      "\n",
      "           0       0.86      0.75      0.80         8\n",
      "           1       0.83      1.00      0.91        10\n",
      "           2       0.83      0.77      0.80        13\n",
      "\n",
      "   micro avg       0.84      0.84      0.84        31\n",
      "   macro avg       0.84      0.84      0.84        31\n",
      "weighted avg       0.84      0.84      0.84        31\n",
      "\n"
     ]
    }
   ],
   "source": [
    "from sklearn.naive_bayes import GaussianNB\n",
    "classifier = GaussianNB()\n",
    "classifier.fit(X_train, Y_train)\n",
    "Y_pred = classifier.predict(X_test)\n",
    "cmnb = confusion_matrix(Y_test, Y_pred)\n",
    "print ('Classification report Naive Bayes')\n",
    "print (classification_report(Y_test, Y_pred))"
   ]
  },
  {
   "cell_type": "code",
   "execution_count": 61,
   "metadata": {},
   "outputs": [],
   "source": [
    "#Decision Tree Algorithm"
   ]
  },
  {
   "cell_type": "code",
   "execution_count": 62,
   "metadata": {},
   "outputs": [
    {
     "name": "stdout",
     "output_type": "stream",
     "text": [
      "Classification report Decision Tree\n",
      "              precision    recall  f1-score   support\n",
      "\n",
      "           0       1.00      0.88      0.93         8\n",
      "           1       0.60      0.90      0.72        10\n",
      "           2       0.89      0.62      0.73        13\n",
      "\n",
      "   micro avg       0.77      0.77      0.77        31\n",
      "   macro avg       0.83      0.80      0.79        31\n",
      "weighted avg       0.82      0.77      0.78        31\n",
      "\n"
     ]
    }
   ],
   "source": [
    "from sklearn.tree import DecisionTreeClassifier\n",
    "classifier = DecisionTreeClassifier(criterion = 'entropy', random_state = 0)\n",
    "classifier.fit(X_train, Y_train)\n",
    "Y_pred = classifier.predict(X_test)\n",
    "cmdt = confusion_matrix(Y_test, Y_pred)\n",
    "print ('Classification report Decision Tree') \n",
    "print (classification_report(Y_test, Y_pred))"
   ]
  },
  {
   "cell_type": "code",
   "execution_count": 63,
   "metadata": {},
   "outputs": [],
   "source": [
    "#Random Forest Classification algorithm"
   ]
  },
  {
   "cell_type": "code",
   "execution_count": 64,
   "metadata": {},
   "outputs": [
    {
     "name": "stdout",
     "output_type": "stream",
     "text": [
      "Classification report Random Forest\n",
      "              precision    recall  f1-score   support\n",
      "\n",
      "           0       0.78      0.88      0.82         8\n",
      "           1       0.69      0.90      0.78        10\n",
      "           2       0.89      0.62      0.73        13\n",
      "\n",
      "   micro avg       0.77      0.77      0.77        31\n",
      "   macro avg       0.79      0.80      0.78        31\n",
      "weighted avg       0.80      0.77      0.77        31\n",
      "\n"
     ]
    }
   ],
   "source": [
    "from sklearn.ensemble import RandomForestClassifier\n",
    "classifier = RandomForestClassifier(n_estimators = 10, criterion = 'entropy', random_state = 0)\n",
    "classifier.fit(X_train, Y_train)\n",
    "Y_pred = classifier.predict(X_test)\n",
    "cmrf = confusion_matrix(Y_test, Y_pred)\n",
    "print ('Classification report Random Forest')\n",
    "print (classification_report(Y_test, Y_pred))"
   ]
  },
  {
   "cell_type": "code",
   "execution_count": 65,
   "metadata": {},
   "outputs": [],
   "source": [
    "# a visual inspection of the confusion matrixes gives relatively similar accuracy between the different methods\n",
    "# in the precision and recall (false positive and negatives) -non normalized- that follows in the code below. In the code above,\n",
    "#the harmonic average F1 of the precision and recall (normalized) will gives the overall estimation of the accuracy. \n",
    "\n",
    "#Make a function that plots the confusion matrix"
   ]
  },
  {
   "cell_type": "code",
   "execution_count": 66,
   "metadata": {},
   "outputs": [],
   "source": [
    "import itertools\n",
    "def plot_confusion_matrix(cm, classes,\n",
    "                          normalize=False,\n",
    "                          title='Confusion matrix',\n",
    "                          cmap=plt.cm.Blues):\n",
    "    \"\"\"\n",
    "    This function prints and plots the confusion matrix.\n",
    "    Normalization can be applied by setting `normalize=True`.\n",
    "    \"\"\"\n",
    "    if normalize:\n",
    "        cm = cm.astype('float') / cm.sum(axis=1)[:, np.newaxis]\n",
    "\n",
    "    plt.imshow(cm, interpolation='nearest', cmap=cmap)\n",
    "    plt.title(title)\n",
    "    plt.colorbar()\n",
    "    tick_marks = np.arange(len(classes))\n",
    "    plt.xticks(tick_marks, classes, rotation=45)\n",
    "    plt.yticks(tick_marks, classes)\n",
    "\n",
    "    fmt = '.2f' if normalize else 'd'\n",
    "    thresh = cm.max() / 2.\n",
    "    for i, j in itertools.product(range(cm.shape[0]), range(cm.shape[1])):\n",
    "        plt.text(j, i, format(cm[i, j], fmt),\n",
    "                 horizontalalignment=\"center\",\n",
    "                 color=\"white\" if cm[i, j] > thresh else \"black\")\n",
    "\n",
    "    plt.tight_layout()\n",
    "    plt.ylabel('True label')\n",
    "    plt.xlabel('Predicted label')\n"
   ]
  },
  {
   "cell_type": "code",
   "execution_count": 51,
   "metadata": {},
   "outputs": [
    {
     "data": {
      "image/png": "[encoded data removed]",
      "text/plain": [
       "<Figure size 432x288 with 2 Axes>"
      ]
     },
     "metadata": {
      "needs_background": "light"
     },
     "output_type": "display_data"
    }
   ],
   "source": [
    "plot_confusion_matrix(cmknn, classes=['HR+','TN','HER2+'],normalize= False,  title='Confusion matrix - k Nearest Neighbor')\n",
    "plt.savefig('cm_kNN.png')\n"
   ]
  },
  {
   "cell_type": "code",
   "execution_count": null,
   "metadata": {},
   "outputs": [],
   "source": []
  },
  {
   "cell_type": "code",
   "execution_count": null,
   "metadata": {},
   "outputs": [],
   "source": []
  }
 ],
 "metadata": {
  "kernelspec": {
   "display_name": "Python 3",
   "language": "python",
   "name": "python3"
  },
  "language_info": {
   "codemirror_mode": {
    "name": "ipython",
    "version": 3
   },
   "file_extension": ".py",
   "mimetype": "text/x-python",
   "name": "python",
   "nbconvert_exporter": "python",
   "pygments_lexer": "ipython3",
   "version": "3.7.4"
  }
 },
 "nbformat": 4,
 "nbformat_minor": 2
}
